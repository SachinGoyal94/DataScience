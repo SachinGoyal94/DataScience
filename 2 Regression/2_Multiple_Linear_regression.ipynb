{
 "cells": [
  {
   "cell_type": "code",
   "id": "initial_id",
   "metadata": {
    "collapsed": true
   },
   "source": [
    "import pandas as pd\n",
    "import numpy as np\n",
    "import matplotlib.pyplot as plt\n",
    "%matplotlib inline"
   ],
   "outputs": [],
   "execution_count": null
  },
  {
   "metadata": {},
   "cell_type": "code",
   "source": [
    "file=pd.read_csv('economic_index.csv')\n",
    "file"
   ],
   "id": "6270ca8548eb9e9d",
   "outputs": [],
   "execution_count": null
  },
  {
   "metadata": {},
   "cell_type": "code",
   "source": [
    "file.drop(columns=['Unnamed: 0','year','month'],inplace=True,axis=1)\n",
    "file"
   ],
   "id": "a174bf80311e9abb",
   "outputs": [],
   "execution_count": null
  },
  {
   "metadata": {},
   "cell_type": "code",
   "source": "file.isnull().sum()",
   "id": "b8cc70998e45f03",
   "outputs": [],
   "execution_count": null
  },
  {
   "metadata": {},
   "cell_type": "code",
   "source": [
    "import seaborn as sns\n",
    "sns.pairplot(file)"
   ],
   "id": "5f4bce6275def31e",
   "outputs": [],
   "execution_count": null
  },
  {
   "metadata": {},
   "cell_type": "code",
   "source": "file.corr()",
   "id": "33325b3cac300b4d",
   "outputs": [],
   "execution_count": null
  },
  {
   "metadata": {},
   "cell_type": "code",
   "source": [
    "plt.scatter(file['interest_rate'],file['unemployment_rate'])\n",
    "plt.xlabel('Interest Rate')\n",
    "plt.ylabel('Unemployment Rate')"
   ],
   "id": "5ba2829c1b3331c3",
   "outputs": [],
   "execution_count": null
  },
  {
   "metadata": {},
   "cell_type": "code",
   "source": [
    "x=file.iloc[:,:-1] # all rows of every column except the last one in independent features\n",
    "y=file.iloc[:,-1]"
   ],
   "id": "c66912316429cb53",
   "outputs": [],
   "execution_count": null
  },
  {
   "metadata": {},
   "cell_type": "code",
   "source": "x",
   "id": "42c1141e3292c9ca",
   "outputs": [],
   "execution_count": null
  },
  {
   "metadata": {},
   "cell_type": "code",
   "source": "y",
   "id": "af15dc8dc73952af",
   "outputs": [],
   "execution_count": null
  },
  {
   "metadata": {},
   "cell_type": "code",
   "source": [
    "from sklearn.model_selection import train_test_split\n",
    "x_train,x_test,y_train,y_test=train_test_split(x,y,test_size=0.25,random_state=42)"
   ],
   "id": "98761efb7fd73405",
   "outputs": [],
   "execution_count": null
  },
  {
   "metadata": {},
   "cell_type": "markdown",
   "source": [
    "#Best Fit line\n",
    "\n",
    "using regplot we can get the best fit line (for reference purposes)\n",
    "\n",
    "the blue shaded shows the line can be moved in that region"
   ],
   "id": "e694ae07544d6240"
  },
  {
   "metadata": {},
   "cell_type": "code",
   "source": "sns.regplot(x=file['interest_rate'], y=file['unemployment_rate'])",
   "id": "f6e7cf13c2ada189",
   "outputs": [],
   "execution_count": null
  },
  {
   "metadata": {},
   "cell_type": "code",
   "source": "sns.regplot(x=file['interest_rate'], y=file['index_price'])",
   "id": "29185b6c19748ecd",
   "outputs": [],
   "execution_count": null
  },
  {
   "metadata": {},
   "cell_type": "code",
   "source": "sns.regplot(x=file['unemployment_rate'],y=file['index_price'])",
   "id": "58a5ab7daf749296",
   "outputs": [],
   "execution_count": null
  },
  {
   "metadata": {},
   "cell_type": "markdown",
   "source": "Here We can use fit_transform for x_test also instead of transform only",
   "id": "eea4f1ef04e002a9"
  },
  {
   "metadata": {},
   "cell_type": "code",
   "source": [
    "from sklearn.preprocessing import StandardScaler\n",
    "x_train=StandardScaler().fit_transform(x_train)\n",
    "x_test=StandardScaler().fit_transform(x_test)"
   ],
   "id": "850e651db114723",
   "outputs": [],
   "execution_count": null
  },
  {
   "metadata": {},
   "cell_type": "code",
   "source": "x_train",
   "id": "d31c00ab249f5263",
   "outputs": [],
   "execution_count": null
  },
  {
   "metadata": {},
   "cell_type": "code",
   "source": [
    "from sklearn.linear_model import LinearRegression\n",
    "regression=LinearRegression()"
   ],
   "id": "a4802da4ff141593",
   "outputs": [],
   "execution_count": null
  },
  {
   "metadata": {},
   "cell_type": "code",
   "source": "regression.fit(x_train,y_train)",
   "id": "23bd7056e5ef2069",
   "outputs": [],
   "execution_count": null
  },
  {
   "metadata": {},
   "cell_type": "code",
   "source": "regression.coef_",
   "id": "14d9de6162953910",
   "outputs": [],
   "execution_count": null
  },
  {
   "metadata": {},
   "cell_type": "markdown",
   "source": [
    "# Cross Validation\n",
    "\n",
    "earlier we use to directly make the regression model by creating training and test data but we can also do one step more\n",
    "\n",
    "here we create validation data (subset of training data)\n",
    "\n",
    "for ex if intial data rows=1000  training =900 and test =100\n",
    "\n",
    "then after using cross_validation score if cv=5 then 900/5=180\n",
    "\n",
    "so every cv=1....5 it will create unique 180 data rows from 900 training data and get mse for every cv after that we can take avg of all those 5 mse"
   ],
   "id": "5c1cd41e318e51fe"
  },
  {
   "metadata": {},
   "cell_type": "code",
   "source": [
    "from sklearn.model_selection import cross_val_score\n",
    "validation_score=cross_val_score(regression,x_train,y_train,cv=3,scoring='neg_mean_squared_error')\n",
    "validation_score"
   ],
   "id": "de5775a5497739b8",
   "outputs": [],
   "execution_count": null
  },
  {
   "metadata": {},
   "cell_type": "code",
   "source": "np.mean(validation_score)",
   "id": "2e62459a56072fbe",
   "outputs": [],
   "execution_count": null
  },
  {
   "metadata": {},
   "cell_type": "code",
   "source": [
    "y_pred=regression.predict(x_test)\n",
    "y_pred"
   ],
   "id": "8c3a0859fe2eba9e",
   "outputs": [],
   "execution_count": null
  },
  {
   "metadata": {},
   "cell_type": "code",
   "source": [
    "#Performance Metrics\n",
    "from sklearn.metrics import mean_squared_error,mean_absolute_error\n",
    "mae=mean_absolute_error(y_test,y_pred)\n",
    "mse=mean_squared_error(y_test,y_pred)\n",
    "rmse=np.sqrt(mse)\n",
    "print(mae)\n",
    "print(mse)\n",
    "print(rmse)"
   ],
   "id": "b9bea84420a3f187",
   "outputs": [],
   "execution_count": null
  },
  {
   "metadata": {},
   "cell_type": "code",
   "source": [
    "from sklearn.metrics import r2_score\n",
    "score=r2_score(y_test,y_pred)\n",
    "score"
   ],
   "id": "9377a36137fa501f",
   "outputs": [],
   "execution_count": null
  },
  {
   "metadata": {},
   "cell_type": "code",
   "source": [
    "#adjusted R square\n",
    "print(1 - (1-score)*(len(y_test)-1)/(len(y_test)-x_test.shape[1]-1))"
   ],
   "id": "f4fc7605cb9a3a80",
   "outputs": [],
   "execution_count": null
  },
  {
   "metadata": {},
   "cell_type": "markdown",
   "source": [
    "ASSUMPTIONS\n",
    "\n",
    "we will check the accuracy of our model"
   ],
   "id": "f0971217ff87c3e4"
  },
  {
   "metadata": {},
   "cell_type": "code",
   "source": [
    "plt.scatter(y_test,y_pred)\n",
    "#here linear relationships denotes that our model is working well"
   ],
   "id": "857b7af306df3902",
   "outputs": [],
   "execution_count": null
  },
  {
   "metadata": {},
   "cell_type": "code",
   "source": [
    "residuals=y_test-y_pred\n",
    "residuals"
   ],
   "id": "5c85765922984b36",
   "outputs": [],
   "execution_count": null
  },
  {
   "metadata": {},
   "cell_type": "markdown",
   "source": "Here the bell like curve denotes that model is correct and accurate",
   "id": "1c4bb84660bb0b55"
  },
  {
   "metadata": {},
   "cell_type": "code",
   "source": "sns.displot(residuals,kind='kde')",
   "id": "4131fab707c7ed61",
   "outputs": [],
   "execution_count": null
  },
  {
   "metadata": {},
   "cell_type": "markdown",
   "source": "Here we got no pattern and it's  uniform which also shows there is no error in the model",
   "id": "ac3247604e4718f0"
  },
  {
   "metadata": {},
   "cell_type": "code",
   "source": [
    "## scatter plot with respect to prediction and residuals\n",
    "plt.scatter(y_pred,residuals)"
   ],
   "id": "e301d91b95bd475",
   "outputs": [],
   "execution_count": null
  },
  {
   "metadata": {},
   "cell_type": "code",
   "source": [
    "## OLS Linear Regression\n",
    "import statsmodels.api as sm\n",
    "model=sm.OLS(y_train,x_train).fit()"
   ],
   "id": "e77c6144049417fc",
   "outputs": [],
   "execution_count": null
  },
  {
   "metadata": {},
   "cell_type": "code",
   "source": "model.summary()",
   "id": "589563a6820286",
   "outputs": [],
   "execution_count": null
  }
 ],
 "metadata": {
  "kernelspec": {
   "display_name": "Python 3",
   "language": "python",
   "name": "python3"
  },
  "language_info": {
   "codemirror_mode": {
    "name": "ipython",
    "version": 2
   },
   "file_extension": ".py",
   "mimetype": "text/x-python",
   "name": "python",
   "nbconvert_exporter": "python",
   "pygments_lexer": "ipython2",
   "version": "2.7.6"
  }
 },
 "nbformat": 4,
 "nbformat_minor": 5
}
